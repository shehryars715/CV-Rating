{
 "cells": [
  {
   "cell_type": "code",
   "execution_count": 24,
   "id": "a8578968",
   "metadata": {},
   "outputs": [
    {
     "name": "stdout",
     "output_type": "stream",
     "text": [
      "Predicted Rating: 5.2\n"
     ]
    }
   ],
   "source": [
    "from langchain_google_genai import GoogleGenerativeAIEmbeddings\n",
    "import numpy as np\n",
    "import joblib\n",
    "import os\n",
    "from dotenv import load_dotenv\n",
    "\n",
    "# Load environment variables\n",
    "load_dotenv()\n",
    "\n",
    "# Load model\n",
    "model = joblib.load('../data/model/regression_model.pkl')\n",
    "\n",
    "# Initialize Gemini Embeddings\n",
    "embeddings_model = GoogleGenerativeAIEmbeddings(\n",
    "    model=\"models/embedding-001\",\n",
    "    google_api_key=os.getenv(\"GOOGLE_API_KEY\"),\n",
    "    task_type=\"retrieval_document\"\n",
    ")\n",
    "\n",
    "def predict_rating(cv_text):\n",
    "    # Get embedding using LangChain\n",
    "    embedding = embeddings_model.embed_query(cv_text)\n",
    "    \n",
    "    # Predict\n",
    "    rating = model.predict([embedding])[0]\n",
    "    return round(rating, 1)  # Round to 1 decimal place like your original ratings\n",
    "\n",
    "# Example usage\n",
    "if __name__ == \"__main__\":\n",
    "    sample_cv = \"\"\"Education: Bachelors of Data Science at Punjab University, \n",
    "                 Experience: 2 years as AI researcher at Awaaz AI, \n",
    "                 GPA: 2.8, \n",
    "                 Skills: Python, C++, SQL, JAVA\"\"\"\n",
    "\n",
    "    predicted_rating = predict_rating(sample_cv)\n",
    "    print(f\"Predicted Rating: {predicted_rating}\")"
   ]
  }
 ],
 "metadata": {
  "kernelspec": {
   "display_name": "venv",
   "language": "python",
   "name": "python3"
  },
  "language_info": {
   "codemirror_mode": {
    "name": "ipython",
    "version": 3
   },
   "file_extension": ".py",
   "mimetype": "text/x-python",
   "name": "python",
   "nbconvert_exporter": "python",
   "pygments_lexer": "ipython3",
   "version": "3.13.5"
  }
 },
 "nbformat": 4,
 "nbformat_minor": 5
}
