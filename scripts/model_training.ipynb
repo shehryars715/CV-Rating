{
 "cells": [
  {
   "cell_type": "code",
   "execution_count": 3,
   "id": "a5df913e",
   "metadata": {},
   "outputs": [],
   "source": [
    "import numpy as np\n",
    "import pandas as pd\n",
    "from sklearn.ensemble import RandomForestRegressor\n",
    "from sklearn.model_selection import train_test_split\n",
    "from sklearn.metrics import mean_squared_error, mean_absolute_error, r2_score\n",
    "from sklearn.linear_model import LinearRegression\n",
    "from sklearn.svm import SVR\n",
    "from xgboost import XGBRegressor\n",
    "import joblib\n",
    "import optuna\n",
    "import warnings\n",
    "warnings.filterwarnings('ignore')"
   ]
  },
  {
   "cell_type": "code",
   "execution_count": 4,
   "id": "fccdf831",
   "metadata": {},
   "outputs": [],
   "source": [
    "# Load data\n",
    "df = pd.read_csv('../data/raw/cv_dataset.csv')\n",
    "embeddings = np.load('../data/embeddings.npy')\n",
    "ratings = df['Rating'].values"
   ]
  },
  {
   "cell_type": "code",
   "execution_count": 5,
   "id": "37440e56",
   "metadata": {},
   "outputs": [],
   "source": [
    "X_train, X_test, y_train, y_test = train_test_split(\n",
    "    embeddings, ratings, test_size=0.2, random_state=42\n",
    ")"
   ]
  },
  {
   "cell_type": "code",
   "execution_count": null,
   "id": "e439bd0c",
   "metadata": {},
   "outputs": [],
   "source": [
    "def train_baseline_models():\n",
    "    \"\"\"Train and evaluate multiple regression models\"\"\"\n",
    "    models = {\n",
    "        'Linear Regression': LinearRegression(),\n",
    "        'Random Forest': RandomForestRegressor(n_estimators=100, random_state=42),\n",
    "        'Support Vector': SVR(),\n",
    "        'XGBoost': XGBRegressor()\n",
    "    }\n",
    "    \n",
    "    best_score = -np.inf\n",
    "    best_model = None\n",
    "    best_name = \"\"\n",
    "    \n",
    "    for name, model in models.items():\n",
    "        print(f\"\\nTraining {name}...\")\n",
    "        model.fit(X_train, y_train)\n",
    "        \n",
    "        # Evaluate\n",
    "        y_pred = model.predict(X_test)\n",
    "        mse = mean_squared_error(y_test, y_pred)\n",
    "        mae = mean_absolute_error(y_test, y_pred)\n",
    "        r2 = r2_score(y_test, y_pred)\n",
    "        \n",
    "        print(f\"{name} Results:\")\n",
    "        print(f\"- MSE: {mse:.4f}\")\n",
    "        print(f\"- MAE: {mae:.4f}\")\n",
    "        print(f\"- R²: {r2:.4f}\")\n",
    "        \n",
    "        if r2 > best_score:\n",
    "            best_score = r2\n",
    "            best_model = model\n",
    "            best_name = name\n",
    "    \n",
    "    print(f\"\\nBest model: {best_name} with R²: {best_score:.4f}\")\n",
    "    return best_model"
   ]
  },
  {
   "cell_type": "code",
   "execution_count": null,
   "id": "97f68512",
   "metadata": {},
   "outputs": [
    {
     "name": "stdout",
     "output_type": "stream",
     "text": [
      "\n",
      "Training Linear Regression...\n",
      "Linear Regression Results:\n",
      "- MSE: 0.3160\n",
      "- MAE: 0.4292\n",
      "- R²: 0.8821\n",
      "\n",
      "Training Random Forest...\n",
      "Random Forest Results:\n",
      "- MSE: 0.9491\n",
      "- MAE: 0.7575\n",
      "- R²: 0.6460\n",
      "\n",
      "Training Support Vector...\n",
      "Support Vector Results:\n",
      "- MSE: 0.5065\n",
      "- MAE: 0.5337\n",
      "- R²: 0.8111\n",
      "\n",
      "Training XGBoost...\n",
      "XGBoost Results:\n",
      "- MSE: 0.7619\n",
      "- MAE: 0.6702\n",
      "- R²: 0.7158\n",
      "\n",
      "Best model: Linear Regression with R²: 0.8821\n"
     ]
    },
    {
     "ename": "FileNotFoundError",
     "evalue": "[Errno 2] No such file or directory: 'models/regression_model.pkl'",
     "output_type": "error",
     "traceback": [
      "\u001b[31m---------------------------------------------------------------------------\u001b[39m",
      "\u001b[31mFileNotFoundError\u001b[39m                         Traceback (most recent call last)",
      "\u001b[36mCell\u001b[39m\u001b[36m \u001b[39m\u001b[32mIn[10]\u001b[39m\u001b[32m, line 14\u001b[39m\n\u001b[32m      3\u001b[39m best_model = train_baseline_models()\n\u001b[32m      5\u001b[39m \u001b[38;5;66;03m# Option 2: Hyperparameter optimization (uncomment to use)\u001b[39;00m\n\u001b[32m      6\u001b[39m \u001b[38;5;66;03m# study = optuna.create_study(direction='maximize')\u001b[39;00m\n\u001b[32m      7\u001b[39m \u001b[38;5;66;03m# study.optimize(optimize_random_forest, n_trials=50)\u001b[39;00m\n\u001b[32m   (...)\u001b[39m\u001b[32m     12\u001b[39m \n\u001b[32m     13\u001b[39m \u001b[38;5;66;03m# Save the best model\u001b[39;00m\n\u001b[32m---> \u001b[39m\u001b[32m14\u001b[39m \u001b[43mjoblib\u001b[49m\u001b[43m.\u001b[49m\u001b[43mdump\u001b[49m\u001b[43m(\u001b[49m\u001b[43mbest_model\u001b[49m\u001b[43m,\u001b[49m\u001b[43m \u001b[49m\u001b[33;43m'\u001b[39;49m\u001b[33;43mmodels/regression_model.pkl\u001b[39;49m\u001b[33;43m'\u001b[39;49m\u001b[43m)\u001b[49m\n\u001b[32m     15\u001b[39m \u001b[38;5;28mprint\u001b[39m(\u001b[33m\"\u001b[39m\u001b[33mModel saved to models/regression_model.pkl\u001b[39m\u001b[33m\"\u001b[39m)\n\u001b[32m     17\u001b[39m \u001b[38;5;66;03m# Final evaluation\u001b[39;00m\n",
      "\u001b[36mFile \u001b[39m\u001b[32md:\\PycharmProjects\\cv_recc\\venv\\Lib\\site-packages\\joblib\\numpy_pickle.py:599\u001b[39m, in \u001b[36mdump\u001b[39m\u001b[34m(value, filename, compress, protocol)\u001b[39m\n\u001b[32m    597\u001b[39m         NumpyPickler(f, protocol=protocol).dump(value)\n\u001b[32m    598\u001b[39m \u001b[38;5;28;01melif\u001b[39;00m is_filename:\n\u001b[32m--> \u001b[39m\u001b[32m599\u001b[39m     \u001b[38;5;28;01mwith\u001b[39;00m \u001b[38;5;28;43mopen\u001b[39;49m\u001b[43m(\u001b[49m\u001b[43mfilename\u001b[49m\u001b[43m,\u001b[49m\u001b[43m \u001b[49m\u001b[33;43m\"\u001b[39;49m\u001b[33;43mwb\u001b[39;49m\u001b[33;43m\"\u001b[39;49m\u001b[43m)\u001b[49m \u001b[38;5;28;01mas\u001b[39;00m f:\n\u001b[32m    600\u001b[39m         NumpyPickler(f, protocol=protocol).dump(value)\n\u001b[32m    601\u001b[39m \u001b[38;5;28;01melse\u001b[39;00m:\n",
      "\u001b[31mFileNotFoundError\u001b[39m: [Errno 2] No such file or directory: 'models/regression_model.pkl'"
     ]
    }
   ],
   "source": [
    "if __name__ == \"__main__\":\n",
    "\n",
    "    best_model = train_baseline_models()\n",
    "    \n",
    "    # Save the best model\n",
    "    joblib.dump(best_model, '../data/model/regression_model.pkl')\n",
    "    print(\"Model saved\")\n",
    "    \n",
    "    # Final evaluation\n",
    "    y_pred = best_model.predict(X_test)\n",
    "    print(\"\\nFinal Model Evaluation:\")\n",
    "    print(f\"- MSE: {mean_squared_error(y_test, y_pred):.4f}\")\n",
    "    print(f\"- MAE: {mean_absolute_error(y_test, y_pred):.4f}\")\n",
    "    print(f\"- R²: {r2_score(y_test, y_pred):.4f}\")"
   ]
  }
 ],
 "metadata": {
  "kernelspec": {
   "display_name": "venv",
   "language": "python",
   "name": "python3"
  },
  "language_info": {
   "codemirror_mode": {
    "name": "ipython",
    "version": 3
   },
   "file_extension": ".py",
   "mimetype": "text/x-python",
   "name": "python",
   "nbconvert_exporter": "python",
   "pygments_lexer": "ipython3",
   "version": "3.13.5"
  }
 },
 "nbformat": 4,
 "nbformat_minor": 5
}
