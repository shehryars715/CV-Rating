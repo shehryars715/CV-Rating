{
 "cells": [
  {
   "cell_type": "code",
   "execution_count": 2,
   "id": "34273e21",
   "metadata": {},
   "outputs": [
    {
     "data": {
      "text/plain": [
       "True"
      ]
     },
     "execution_count": 2,
     "metadata": {},
     "output_type": "execute_result"
    }
   ],
   "source": [
    "from langchain_google_genai import GoogleGenerativeAIEmbeddings\n",
    "import pandas as pd\n",
    "import numpy as np\n",
    "import os\n",
    "from dotenv import load_dotenv\n",
    "\n",
    "# Load environment variables\n",
    "load_dotenv()\n"
   ]
  },
  {
   "cell_type": "code",
   "execution_count": 3,
   "id": "b40e2119",
   "metadata": {},
   "outputs": [],
   "source": [
    "# Initialize Gemini Embeddings through LangChain\n",
    "embeddings_model = GoogleGenerativeAIEmbeddings(\n",
    "    model=\"models/embedding-001\",\n",
    "    google_api_key=os.getenv(\"GOOGLE_API_KEY\"),\n",
    "    task_type=\"retrieval_document\"\n",
    ")\n"
   ]
  },
  {
   "cell_type": "code",
   "execution_count": 5,
   "id": "3901b777",
   "metadata": {},
   "outputs": [],
   "source": [
    "# Load processed data\n",
    "df = pd.read_csv('../data/raw/cv_dataset.csv')\n"
   ]
  },
  {
   "cell_type": "code",
   "execution_count": 6,
   "id": "9fb43529",
   "metadata": {},
   "outputs": [],
   "source": [
    "# Generate embeddings\n",
    "def get_embeddings(texts):\n",
    "    return embeddings_model.embed_documents(texts)\n"
   ]
  },
  {
   "cell_type": "code",
   "execution_count": 8,
   "id": "6d1556f5",
   "metadata": {},
   "outputs": [
    {
     "name": "stdout",
     "output_type": "stream",
     "text": [
      "Processed 100/5880\n",
      "Processed 200/5880\n",
      "Processed 300/5880\n",
      "Processed 400/5880\n",
      "Processed 500/5880\n",
      "Processed 600/5880\n",
      "Processed 700/5880\n",
      "Processed 800/5880\n",
      "Processed 900/5880\n",
      "Processed 1000/5880\n",
      "Processed 1100/5880\n",
      "Processed 1200/5880\n",
      "Processed 1300/5880\n",
      "Processed 1400/5880\n",
      "Processed 1500/5880\n",
      "Processed 1600/5880\n",
      "Processed 1700/5880\n",
      "Processed 1800/5880\n",
      "Processed 1900/5880\n",
      "Processed 2000/5880\n",
      "Processed 2100/5880\n",
      "Processed 2200/5880\n",
      "Processed 2300/5880\n",
      "Processed 2400/5880\n",
      "Processed 2500/5880\n",
      "Processed 2600/5880\n",
      "Processed 2700/5880\n",
      "Processed 2800/5880\n",
      "Processed 2900/5880\n",
      "Processed 3000/5880\n",
      "Processed 3100/5880\n",
      "Processed 3200/5880\n",
      "Processed 3300/5880\n",
      "Processed 3400/5880\n",
      "Processed 3500/5880\n",
      "Processed 3600/5880\n",
      "Processed 3700/5880\n",
      "Processed 3800/5880\n",
      "Processed 3900/5880\n",
      "Processed 4000/5880\n",
      "Processed 4100/5880\n",
      "Processed 4200/5880\n",
      "Processed 4300/5880\n",
      "Processed 4400/5880\n",
      "Processed 4500/5880\n",
      "Processed 4600/5880\n",
      "Processed 4700/5880\n",
      "Processed 4800/5880\n",
      "Processed 4900/5880\n",
      "Processed 5000/5880\n",
      "Processed 5100/5880\n",
      "Processed 5200/5880\n",
      "Processed 5300/5880\n",
      "Processed 5400/5880\n",
      "Processed 5500/5880\n",
      "Processed 5600/5880\n",
      "Processed 5700/5880\n",
      "Processed 5800/5880\n",
      "Processed 5880/5880\n"
     ]
    }
   ],
   "source": [
    "# Batch process embeddings (better for large datasets)\n",
    "batch_size = 100\n",
    "all_embeddings = []\n",
    "for i in range(0, len(df), batch_size):\n",
    "    batch = df['CV Input'].iloc[i:i+batch_size].tolist()\n",
    "    batch_embeddings = get_embeddings(batch)\n",
    "    all_embeddings.extend(batch_embeddings)\n",
    "    print(f\"Processed {min(i+batch_size, len(df))}/{len(df)}\")\n"
   ]
  },
  {
   "cell_type": "code",
   "execution_count": 9,
   "id": "99e3b402",
   "metadata": {},
   "outputs": [
    {
     "name": "stdout",
     "output_type": "stream",
     "text": [
      "Embeddings saved successfully.\n"
     ]
    }
   ],
   "source": [
    "# Save embeddings\n",
    "embeddings_array = np.array(all_embeddings)\n",
    "np.save('../data/embeddings.npy', embeddings_array)\n",
    "print(\"Embeddings saved successfully.\")"
   ]
  }
 ],
 "metadata": {
  "kernelspec": {
   "display_name": "venv",
   "language": "python",
   "name": "python3"
  },
  "language_info": {
   "codemirror_mode": {
    "name": "ipython",
    "version": 3
   },
   "file_extension": ".py",
   "mimetype": "text/x-python",
   "name": "python",
   "nbconvert_exporter": "python",
   "pygments_lexer": "ipython3",
   "version": "3.13.5"
  }
 },
 "nbformat": 4,
 "nbformat_minor": 5
}
