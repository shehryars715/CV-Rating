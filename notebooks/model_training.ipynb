{
 "cells": [
  {
   "cell_type": "code",
   "execution_count": 3,
   "id": "a5df913e",
   "metadata": {},
   "outputs": [],
   "source": [
    "import numpy as np\n",
    "import pandas as pd\n",
    "from sklearn.ensemble import RandomForestRegressor\n",
    "from sklearn.model_selection import train_test_split\n",
    "from sklearn.metrics import mean_squared_error, mean_absolute_error, r2_score\n",
    "from sklearn.linear_model import LinearRegression\n",
    "from sklearn.svm import SVR\n",
    "from xgboost import XGBRegressor\n",
    "import joblib\n",
    "import optuna\n",
    "import warnings\n",
    "warnings.filterwarnings('ignore')"
   ]
  },
  {
   "cell_type": "code",
   "execution_count": 4,
   "id": "fccdf831",
   "metadata": {},
   "outputs": [],
   "source": [
    "# Load data\n",
    "df = pd.read_csv('../data/raw/cv_dataset.csv')\n",
    "embeddings = np.load('../data/embeddings.npy')\n",
    "ratings = df['Rating'].values"
   ]
  },
  {
   "cell_type": "code",
   "execution_count": 5,
   "id": "37440e56",
   "metadata": {},
   "outputs": [],
   "source": [
    "X_train, X_test, y_train, y_test = train_test_split(\n",
    "    embeddings, ratings, test_size=0.2, random_state=42\n",
    ")"
   ]
  },
  {
   "cell_type": "code",
   "execution_count": 14,
   "id": "e439bd0c",
   "metadata": {},
   "outputs": [],
   "source": [
    "def train_baseline_models():\n",
    "    \"\"\"Train and evaluate multiple regression models\"\"\"\n",
    "    models = {\n",
    "        'Linear Regression': LinearRegression(),\n",
    "        'Random Forest': RandomForestRegressor(n_estimators=100, random_state=42),\n",
    "        'Support Vector': SVR(),\n",
    "        'XGBoost': XGBRegressor()\n",
    "    }\n",
    "    \n",
    "    best_score = -np.inf\n",
    "    best_model = None\n",
    "    best_name = \"\"\n",
    "    \n",
    "    for name, model in models.items():\n",
    "        print(f\"\\nTraining {name}...\")\n",
    "        model.fit(X_train, y_train)\n",
    "        \n",
    "        # Evaluate\n",
    "        y_pred = model.predict(X_test)\n",
    "        mse = mean_squared_error(y_test, y_pred)\n",
    "        mae = mean_absolute_error(y_test, y_pred)\n",
    "        r2 = r2_score(y_test, y_pred)\n",
    "        \n",
    "        print(f\"{name} Results:\")\n",
    "        print(f\"- MSE: {mse:.4f}\")\n",
    "        print(f\"- MAE: {mae:.4f}\")\n",
    "        print(f\"- R²: {r2:.4f}\")\n",
    "        \n",
    "        if r2 > best_score:\n",
    "            best_score = r2\n",
    "            best_model = model\n",
    "            best_name = name\n",
    "    \n",
    "    print(f\"\\nBest model: {best_name} with R²: {best_score:.4f}\")\n",
    "    return best_model"
   ]
  },
  {
   "cell_type": "code",
   "execution_count": 15,
   "id": "97f68512",
   "metadata": {},
   "outputs": [
    {
     "name": "stdout",
     "output_type": "stream",
     "text": [
      "\n",
      "Training Linear Regression...\n",
      "Linear Regression Results:\n",
      "- MSE: 0.3160\n",
      "- MAE: 0.4292\n",
      "- R²: 0.8821\n",
      "\n",
      "Training Random Forest...\n",
      "Random Forest Results:\n",
      "- MSE: 0.9491\n",
      "- MAE: 0.7575\n",
      "- R²: 0.6460\n",
      "\n",
      "Training Support Vector...\n",
      "Support Vector Results:\n",
      "- MSE: 0.5065\n",
      "- MAE: 0.5337\n",
      "- R²: 0.8111\n",
      "\n",
      "Training XGBoost...\n",
      "XGBoost Results:\n",
      "- MSE: 0.7619\n",
      "- MAE: 0.6702\n",
      "- R²: 0.7158\n",
      "\n",
      "Best model: Linear Regression with R²: 0.8821\n",
      "Model saved\n",
      "\n",
      "Final Model Evaluation:\n",
      "- MSE: 0.3160\n",
      "- MAE: 0.4292\n",
      "- R²: 0.8821\n"
     ]
    }
   ],
   "source": [
    "if __name__ == \"__main__\":\n",
    "\n",
    "    best_model = train_baseline_models()\n",
    "    \n",
    "    # Save the best model\n",
    "    joblib.dump(best_model, '../data/model/regression_model.pkl')\n",
    "    print(\"Model saved\")\n",
    "    \n",
    "    # Final evaluation\n",
    "    y_pred = best_model.predict(X_test)\n",
    "    print(\"\\nFinal Model Evaluation:\")\n",
    "    print(f\"- MSE: {mean_squared_error(y_test, y_pred):.4f}\")\n",
    "    print(f\"- MAE: {mean_absolute_error(y_test, y_pred):.4f}\")\n",
    "    print(f\"- R²: {r2_score(y_test, y_pred):.4f}\")"
   ]
  }
 ],
 "metadata": {
  "kernelspec": {
   "display_name": "venv",
   "language": "python",
   "name": "python3"
  },
  "language_info": {
   "codemirror_mode": {
    "name": "ipython",
    "version": 3
   },
   "file_extension": ".py",
   "mimetype": "text/x-python",
   "name": "python",
   "nbconvert_exporter": "python",
   "pygments_lexer": "ipython3",
   "version": "3.13.5"
  }
 },
 "nbformat": 4,
 "nbformat_minor": 5
}
